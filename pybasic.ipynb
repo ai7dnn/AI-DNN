{
  "nbformat": 4,
  "nbformat_minor": 0,
  "metadata": {
    "colab": {
      "name": "pybasic.ipynb",
      "provenance": [],
      "collapsed_sections": [],
      "authorship_tag": "ABX9TyNEH0jFHveH/bPGI1j0V5Fs",
      "include_colab_link": true
    },
    "kernelspec": {
      "name": "python3",
      "display_name": "Python 3"
    },
    "language_info": {
      "name": "python"
    }
  },
  "cells": [
    {
      "cell_type": "markdown",
      "metadata": {
        "id": "view-in-github",
        "colab_type": "text"
      },
      "source": [
        "<a href=\"https://colab.research.google.com/github/ai7dnn/AI-DNN/blob/main/pybasic.ipynb\" target=\"_parent\"><img src=\"https://colab.research.google.com/assets/colab-badge.svg\" alt=\"Open In Colab\"/></a>"
      ]
    },
    {
      "cell_type": "code",
      "execution_count": 1,
      "metadata": {
        "colab": {
          "base_uri": "https://localhost:8080/"
        },
        "id": "faB4MwNB6J-S",
        "outputId": "2e1efc3c-dd50-468d-bd80-c1e48b22ad0f"
      },
      "outputs": [
        {
          "output_type": "stream",
          "name": "stdout",
          "text": [
            "0\n",
            "1\n",
            "2\n",
            "3\n",
            "4\n",
            "5\n",
            "6\n",
            "7\n",
            "8\n",
            "9\n"
          ]
        }
      ],
      "source": [
        "for num in range(10):\t# 0이상 10미만의 정수에 대해서 0부터 순차적으로 변수 num에 대입\n",
        "    print(num)\t\t# range(start, stop, step) → range(0, 10, 1)"
      ]
    },
    {
      "cell_type": "code",
      "source": [
        "test_score = [80, 70, 90, 100]\n",
        "for score in test_score:\t# 리스트 test_socre에 저장되어 있는 값을 하나씩 읽어 변수 score에 대입\n",
        "    print(score)"
      ],
      "metadata": {
        "colab": {
          "base_uri": "https://localhost:8080/"
        },
        "id": "pxpsn0mK60o5",
        "outputId": "b9506980-30de-4ad6-9859-95c93d2b8cd8"
      },
      "execution_count": 2,
      "outputs": [
        {
          "output_type": "stream",
          "name": "stdout",
          "text": [
            "80\n",
            "70\n",
            "90\n",
            "100\n"
          ]
        }
      ]
    },
    {
      "cell_type": "code",
      "source": [
        "test_name = ['국어', '영어', '수학', '과학']\n",
        "for name in test_name:\t# 리스트 test_name에 저장되어 있는 값을 하나씩 읽어 변수 name에 대입\n",
        "    print(name)"
      ],
      "metadata": {
        "colab": {
          "base_uri": "https://localhost:8080/"
        },
        "id": "f5aLQFSd68FP",
        "outputId": "8b2f00c4-050d-4419-9571-0bd15b183e60"
      },
      "execution_count": 4,
      "outputs": [
        {
          "output_type": "stream",
          "name": "stdout",
          "text": [
            "국어\n",
            "영어\n",
            "수학\n",
            "과학\n"
          ]
        }
      ]
    },
    {
      "cell_type": "code",
      "source": [
        "if (10 > 0):\n",
        "    print('안녕하세요!')"
      ],
      "metadata": {
        "colab": {
          "base_uri": "https://localhost:8080/"
        },
        "id": "4Q5U9DN969mR",
        "outputId": "1e4bf933-5d54-453d-eb70-9bae40f081cd"
      },
      "execution_count": 5,
      "outputs": [
        {
          "output_type": "stream",
          "name": "stdout",
          "text": [
            "안녕하세요!\n"
          ]
        }
      ]
    },
    {
      "cell_type": "code",
      "source": [
        "password = input('패스워드를 입력하세요: ')\n",
        "\n",
        "if (int(password) ==  12345):\n",
        "    print('로그인 되었습니다.')\t\t\t# if 조건문이 참일 경우 실행\n",
        "elif (int(password) == 11111):\n",
        "    print('관리자 권한입니다.')\t\t\t# if 조건문이 거짓이고 elif 조건문이 참일 경우 실행\n",
        "else:\n",
        "    print('로그인에 실패하였습니다.')\t\t# if, elif 조건문이 모두 거짓일 경우 실행"
      ],
      "metadata": {
        "colab": {
          "base_uri": "https://localhost:8080/"
        },
        "id": "KGGYOqhv7IYs",
        "outputId": "eef037e0-b65a-4966-ff79-54638dfdbb81"
      },
      "execution_count": 8,
      "outputs": [
        {
          "output_type": "stream",
          "name": "stdout",
          "text": [
            "패스워드를 입력하세요: 11\n",
            "로그인에 실패하였습니다.\n"
          ]
        }
      ]
    },
    {
      "cell_type": "code",
      "source": [
        "arr1 = [1, 2, 3, 4, 5]\n",
        "print(type(arr1))\t\t# type( ): 변수 arr의 자료형을 반환합니다"
      ],
      "metadata": {
        "colab": {
          "base_uri": "https://localhost:8080/"
        },
        "id": "_WWPj2TI7Hao",
        "outputId": "1a65d66a-d1ba-433d-f47a-a72e4388cfe3"
      },
      "execution_count": 9,
      "outputs": [
        {
          "output_type": "stream",
          "name": "stdout",
          "text": [
            "<class 'list'>\n"
          ]
        }
      ]
    },
    {
      "cell_type": "code",
      "source": [
        "arr2 = ['월', '화', '수', '목', '금', '토']\n",
        "print(type(arr2))"
      ],
      "metadata": {
        "colab": {
          "base_uri": "https://localhost:8080/"
        },
        "id": "lg8xblGb7GfI",
        "outputId": "c736d031-f733-489e-99c2-822eb785657e"
      },
      "execution_count": 16,
      "outputs": [
        {
          "output_type": "stream",
          "name": "stdout",
          "text": [
            "<class 'list'>\n"
          ]
        }
      ]
    },
    {
      "cell_type": "code",
      "source": [
        "arr3 = list('월화수목금토')\n",
        "print(arr3)"
      ],
      "metadata": {
        "colab": {
          "base_uri": "https://localhost:8080/"
        },
        "id": "4OvY-cZn7vwy",
        "outputId": "3bd40be2-de71-4b96-8351-8dffd1eb5dc7"
      },
      "execution_count": 11,
      "outputs": [
        {
          "output_type": "stream",
          "name": "stdout",
          "text": [
            "['월', '화', '수', '목', '금', '토']\n"
          ]
        }
      ]
    },
    {
      "cell_type": "code",
      "source": [
        "arr3 = [1, 2, 3, 4, 5, '월', '화', '수', '목', '금', '토']\n",
        "print(type(arr3))"
      ],
      "metadata": {
        "colab": {
          "base_uri": "https://localhost:8080/"
        },
        "id": "m18riMnJ7FzP",
        "outputId": "5c2041a2-ede5-4d0f-f55e-249910d3d4f3"
      },
      "execution_count": 14,
      "outputs": [
        {
          "output_type": "stream",
          "name": "stdout",
          "text": [
            "<class 'list'>\n"
          ]
        }
      ]
    },
    {
      "cell_type": "code",
      "source": [
        "arr2 = ['월', '화', '수', '목', '금', '토']\n",
        "print(arr2)"
      ],
      "metadata": {
        "colab": {
          "base_uri": "https://localhost:8080/"
        },
        "id": "CE0zi-VM7E7P",
        "outputId": "ebad4955-5a43-4121-a753-146a2c854281"
      },
      "execution_count": 15,
      "outputs": [
        {
          "output_type": "stream",
          "name": "stdout",
          "text": [
            "['월', '화', '수', '목', '금', '토']\n"
          ]
        }
      ]
    },
    {
      "cell_type": "code",
      "source": [
        "arr2 = ['월', '화', '수', '목', '금', '토']\n",
        "print(arr2[0])\n",
        "print(arr2[1])\n",
        "print(arr2[2])\n",
        "print(arr2[3])\n",
        "print(arr2[4])\n",
        "print(arr2[5])"
      ],
      "metadata": {
        "colab": {
          "base_uri": "https://localhost:8080/"
        },
        "id": "bhiOleyY7Cmy",
        "outputId": "7335abcc-5d16-4bf3-e2ea-7fc73024e8c0"
      },
      "execution_count": 17,
      "outputs": [
        {
          "output_type": "stream",
          "name": "stdout",
          "text": [
            "월\n",
            "화\n",
            "수\n",
            "목\n",
            "금\n",
            "토\n"
          ]
        }
      ]
    },
    {
      "cell_type": "code",
      "source": [
        "arr2 = ['월', '화', '수', '목', '금', '토']\n",
        "print(arr2[-1])\t\t# 뒤에서 1번째: ‘토’\n",
        "print(arr2[-2])\t\t# 뒤에서 2번째: '금'\n",
        "print(arr2[-3])\t\t# 뒤에서 3번째: ‘목’\n",
        "print(arr2[-4])\t\t# 뒤에서 4번째: '수'\n",
        "print(arr2[-5])\t\t# 뒤에서 5번째: '화'\n",
        "print(arr2[-6])\t\t# 뒤에서 6번째: '월'"
      ],
      "metadata": {
        "colab": {
          "base_uri": "https://localhost:8080/"
        },
        "id": "3B61GdUY7BmA",
        "outputId": "04a44f09-508c-4d7e-bac0-d61c9ba53c3a"
      },
      "execution_count": 18,
      "outputs": [
        {
          "output_type": "stream",
          "name": "stdout",
          "text": [
            "토\n",
            "금\n",
            "목\n",
            "수\n",
            "화\n",
            "월\n"
          ]
        }
      ]
    },
    {
      "cell_type": "code",
      "source": [
        "arr2 = ['월', '화', '수', '목', '금', '토']\n",
        "print(arr2[0:2])\t\t# 0이상 2미만의 구간\n",
        "print(arr2[1:4])\t\t# 1이상 4미만의 구간\n",
        "print(arr2[1:])\t\t# 1이상의 구간\n",
        "print(arr2[:3])\t\t# 3미만의 구간\n",
        "print(arr2[:])\t\t# 맨 앞에서부터 맨 끝까지"
      ],
      "metadata": {
        "colab": {
          "base_uri": "https://localhost:8080/"
        },
        "id": "SenMqGLK7A0Z",
        "outputId": "290316f1-7334-455b-bcb4-304c130fe746"
      },
      "execution_count": 19,
      "outputs": [
        {
          "output_type": "stream",
          "name": "stdout",
          "text": [
            "['월', '화']\n",
            "['화', '수', '목']\n",
            "['화', '수', '목', '금', '토']\n",
            "['월', '화', '수']\n",
            "['월', '화', '수', '목', '금', '토']\n"
          ]
        }
      ]
    },
    {
      "cell_type": "code",
      "source": [
        "arr1 = [1, 2, 3, 4, 5]\n",
        "print(arr1)\n",
        "print(len(arr1))\t\t# len( ): 리스트의 길이 (Length)를 반환합니다.\n",
        "arr1.append(6)\n",
        "print(arr1)\n",
        "print(len(arr1))"
      ],
      "metadata": {
        "colab": {
          "base_uri": "https://localhost:8080/"
        },
        "id": "Ch4WUB9k6_8Q",
        "outputId": "76bcd7fe-877c-4996-e978-55e60e1c21db"
      },
      "execution_count": 20,
      "outputs": [
        {
          "output_type": "stream",
          "name": "stdout",
          "text": [
            "[1, 2, 3, 4, 5]\n",
            "5\n",
            "[1, 2, 3, 4, 5, 6]\n",
            "6\n"
          ]
        }
      ]
    },
    {
      "cell_type": "code",
      "source": [
        "arr2 = ['월', '화', '수', '목', '금', '토']\n",
        "print(arr2)\n",
        "print(len(arr2))\n",
        "arr2.append('일')\n",
        "print(arr2)\n",
        "print(len(arr2))"
      ],
      "metadata": {
        "colab": {
          "base_uri": "https://localhost:8080/"
        },
        "id": "CEDkDdfC6-6Z",
        "outputId": "2e51830a-e751-436e-e054-ab2e11945775"
      },
      "execution_count": 21,
      "outputs": [
        {
          "output_type": "stream",
          "name": "stdout",
          "text": [
            "['월', '화', '수', '목', '금', '토']\n",
            "6\n",
            "['월', '화', '수', '목', '금', '토', '일']\n",
            "7\n"
          ]
        }
      ]
    }
  ]
}